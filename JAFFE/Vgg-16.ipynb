{
 "cells": [
  {
   "cell_type": "code",
   "execution_count": 11,
   "metadata": {
    "colab": {
     "autoexec": {
      "startup": false,
      "wait_interval": 0
     }
    },
    "colab_type": "code",
    "id": "V95Uwl8F2u_S"
   },
   "outputs": [],
   "source": [
    "import numpy as np\n",
    "import pandas as pd\n",
    "import matplotlib.pyplot as plt\n",
    "import keras\n",
    "from keras import models, layers, losses, optimizers, metrics"
   ]
  },
  {
   "cell_type": "code",
   "execution_count": 13,
   "metadata": {
    "colab": {
     "autoexec": {
      "startup": false,
      "wait_interval": 0
     },
     "base_uri": "https://localhost:8080/",
     "height": 51,
     "output_extras": [
      {
       "item_id": 2
      }
     ]
    },
    "colab_type": "code",
    "executionInfo": {
     "elapsed": 2038,
     "status": "ok",
     "timestamp": 1518623283961,
     "user": {
      "displayName": "Shuvendu Bikash",
      "photoUrl": "//lh6.googleusercontent.com/-qmLdelcDhNY/AAAAAAAAAAI/AAAAAAAAOyw/0BejXT-_QPo/s50-c-k-no/photo.jpg",
      "userId": "106434026064423574094"
     },
     "user_tz": -360
    },
    "id": "4mp5FXso6yJv",
    "outputId": "6659d994-0eba-464b-d45a-f69d82ecd360"
   },
   "outputs": [
    {
     "name": "stdout",
     "output_type": "stream",
     "text": [
      "Found 189 images belonging to 7 classes.\n",
      "Found 24 images belonging to 7 classes.\n"
     ]
    }
   ],
   "source": [
    "from keras.preprocessing.image import ImageDataGenerator\n",
    "train_dir = 'data\\\\train'\n",
    "test_dir ='data\\\\test'\n",
    "\n",
    "\n",
    "train_datagen = ImageDataGenerator(rescale=1./255)\n",
    "test_datagen = ImageDataGenerator(rescale=1./255)\n",
    "\n",
    "train_generator = train_datagen.flow_from_directory(\n",
    "    train_dir,\n",
    "    target_size = (224, 224),\n",
    "    batch_size=32\n",
    ")\n",
    "\n",
    "validation_generator = test_datagen.flow_from_directory(\n",
    "    test_dir,\n",
    "    target_size = (224, 224),\n",
    "    batch_size=8\n",
    ")"
   ]
  },
  {
   "cell_type": "markdown",
   "metadata": {
    "colab_type": "text",
    "id": "VyVSA5Nb-5tQ"
   },
   "source": [
    "## Try using pretrined model"
   ]
  },
  {
   "cell_type": "code",
   "execution_count": 2,
   "metadata": {
    "colab": {
     "autoexec": {
      "startup": false,
      "wait_interval": 0
     },
     "base_uri": "https://localhost:8080/",
     "height": 51,
     "output_extras": [
      {
       "item_id": 2
      }
     ]
    },
    "colab_type": "code",
    "executionInfo": {
     "elapsed": 2835,
     "status": "ok",
     "timestamp": 1518622992285,
     "user": {
      "displayName": "Shuvendu Bikash",
      "photoUrl": "//lh6.googleusercontent.com/-qmLdelcDhNY/AAAAAAAAAAI/AAAAAAAAOyw/0BejXT-_QPo/s50-c-k-no/photo.jpg",
      "userId": "106434026064423574094"
     },
     "user_tz": -360
    },
    "id": "tVtbN_6L-LbB",
    "outputId": "169402bb-4993-42ed-98b2-5c03f9f873d5"
   },
   "outputs": [
    {
     "name": "stdout",
     "output_type": "stream",
     "text": [
      "_________________________________________________________________\n",
      "Layer (type)                 Output Shape              Param #   \n",
      "=================================================================\n",
      "input_1 (InputLayer)         (None, 224, 224, 3)       0         \n",
      "_________________________________________________________________\n",
      "block1_conv1 (Conv2D)        (None, 224, 224, 64)      1792      \n",
      "_________________________________________________________________\n",
      "block1_conv2 (Conv2D)        (None, 224, 224, 64)      36928     \n",
      "_________________________________________________________________\n",
      "block1_pool (MaxPooling2D)   (None, 112, 112, 64)      0         \n",
      "_________________________________________________________________\n",
      "block2_conv1 (Conv2D)        (None, 112, 112, 128)     73856     \n",
      "_________________________________________________________________\n",
      "block2_conv2 (Conv2D)        (None, 112, 112, 128)     147584    \n",
      "_________________________________________________________________\n",
      "block2_pool (MaxPooling2D)   (None, 56, 56, 128)       0         \n",
      "_________________________________________________________________\n",
      "block3_conv1 (Conv2D)        (None, 56, 56, 256)       295168    \n",
      "_________________________________________________________________\n",
      "block3_conv2 (Conv2D)        (None, 56, 56, 256)       590080    \n",
      "_________________________________________________________________\n",
      "block3_conv3 (Conv2D)        (None, 56, 56, 256)       590080    \n",
      "_________________________________________________________________\n",
      "block3_pool (MaxPooling2D)   (None, 28, 28, 256)       0         \n",
      "_________________________________________________________________\n",
      "block4_conv1 (Conv2D)        (None, 28, 28, 512)       1180160   \n",
      "_________________________________________________________________\n",
      "block4_conv2 (Conv2D)        (None, 28, 28, 512)       2359808   \n",
      "_________________________________________________________________\n",
      "block4_conv3 (Conv2D)        (None, 28, 28, 512)       2359808   \n",
      "_________________________________________________________________\n",
      "block4_pool (MaxPooling2D)   (None, 14, 14, 512)       0         \n",
      "_________________________________________________________________\n",
      "block5_conv1 (Conv2D)        (None, 14, 14, 512)       2359808   \n",
      "_________________________________________________________________\n",
      "block5_conv2 (Conv2D)        (None, 14, 14, 512)       2359808   \n",
      "_________________________________________________________________\n",
      "block5_conv3 (Conv2D)        (None, 14, 14, 512)       2359808   \n",
      "_________________________________________________________________\n",
      "block5_pool (MaxPooling2D)   (None, 7, 7, 512)         0         \n",
      "=================================================================\n",
      "Total params: 14,714,688\n",
      "Trainable params: 14,714,688\n",
      "Non-trainable params: 0\n",
      "_________________________________________________________________\n"
     ]
    }
   ],
   "source": [
    "from keras.applications import VGG16\n",
    "\n",
    "conv_base = VGG16(weights='imagenet',\n",
    "                 include_top=False,\n",
    "                 input_shape=(224, 224, 3))\n",
    "\n",
    "conv_base.summary()"
   ]
  },
  {
   "cell_type": "code",
   "execution_count": 7,
   "metadata": {
    "colab": {
     "autoexec": {
      "startup": false,
      "wait_interval": 0
     },
     "base_uri": "https://localhost:8080/",
     "height": 272,
     "output_extras": [
      {
       "item_id": 1
      }
     ]
    },
    "colab_type": "code",
    "executionInfo": {
     "elapsed": 1319,
     "status": "ok",
     "timestamp": 1518623116608,
     "user": {
      "displayName": "Shuvendu Bikash",
      "photoUrl": "//lh6.googleusercontent.com/-qmLdelcDhNY/AAAAAAAAAAI/AAAAAAAAOyw/0BejXT-_QPo/s50-c-k-no/photo.jpg",
      "userId": "106434026064423574094"
     },
     "user_tz": -360
    },
    "id": "_skOPxk9-9v2",
    "outputId": "9ce900f6-291e-4ca3-8ef1-56d098e2311d"
   },
   "outputs": [
    {
     "name": "stdout",
     "output_type": "stream",
     "text": [
      "_________________________________________________________________\n",
      "Layer (type)                 Output Shape              Param #   \n",
      "=================================================================\n",
      "vgg16 (Model)                (None, 7, 7, 512)         14714688  \n",
      "_________________________________________________________________\n",
      "flatten_1 (Flatten)          (None, 25088)             0         \n",
      "_________________________________________________________________\n",
      "dense_1 (Dense)              (None, 512)               12845568  \n",
      "_________________________________________________________________\n",
      "dense_2 (Dense)              (None, 7)                 3591      \n",
      "=================================================================\n",
      "Total params: 27,563,847\n",
      "Trainable params: 27,563,847\n",
      "Non-trainable params: 0\n",
      "_________________________________________________________________\n"
     ]
    }
   ],
   "source": [
    "model = models.Sequential()\n",
    "\n",
    "model.add(conv_base)\n",
    "model.add(layers.Flatten())\n",
    "model.add(layers.Dense(512))\n",
    "model.add(layers.Dense(7, activation='softmax'))\n",
    "model.summary()"
   ]
  },
  {
   "cell_type": "code",
   "execution_count": 14,
   "metadata": {
    "colab": {
     "autoexec": {
      "startup": false,
      "wait_interval": 0
     },
     "base_uri": "https://localhost:8080/",
     "height": 326,
     "output_extras": [
      {
       "item_id": 57
      },
      {
       "item_id": 102
      },
      {
       "item_id": 146
      },
      {
       "item_id": 185
      },
      {
       "item_id": 223
      },
      {
       "item_id": 264
      },
      {
       "item_id": 312
      },
      {
       "item_id": 340
      },
      {
       "item_id": 350
      }
     ]
    },
    "colab_type": "code",
    "executionInfo": {
     "elapsed": 281971,
     "status": "ok",
     "timestamp": 1518623773926,
     "user": {
      "displayName": "Shuvendu Bikash",
      "photoUrl": "//lh6.googleusercontent.com/-qmLdelcDhNY/AAAAAAAAAAI/AAAAAAAAOyw/0BejXT-_QPo/s50-c-k-no/photo.jpg",
      "userId": "106434026064423574094"
     },
     "user_tz": -360
    },
    "id": "clg09hoI_ce1",
    "outputId": "d09f4d91-5834-43c8-d48e-f6b24c890f80"
   },
   "outputs": [
    {
     "name": "stdout",
     "output_type": "stream",
     "text": [
      "This is the number of trainable weights before freezing the conv base: 4\n",
      "Epoch 1/30\n",
      "6/6 [==============================] - 7s 1s/step - loss: 2.1600 - categorical_accuracy: 0.2300 - val_loss: 1.9117 - val_categorical_accuracy: 0.2083\n",
      "Epoch 2/30\n",
      "6/6 [==============================] - 1s 233ms/step - loss: 1.7339 - categorical_accuracy: 0.3178 - val_loss: 1.7464 - val_categorical_accuracy: 0.2917\n",
      "Epoch 3/30\n",
      "6/6 [==============================] - 1s 233ms/step - loss: 1.4616 - categorical_accuracy: 0.4265 - val_loss: 1.6132 - val_categorical_accuracy: 0.4583\n",
      "Epoch 4/30\n",
      "6/6 [==============================] - 1s 232ms/step - loss: 1.1964 - categorical_accuracy: 0.6722 - val_loss: 1.5286 - val_categorical_accuracy: 0.3333\n",
      "Epoch 5/30\n",
      "6/6 [==============================] - 1s 233ms/step - loss: 1.0526 - categorical_accuracy: 0.7414 - val_loss: 1.4194 - val_categorical_accuracy: 0.5417\n",
      "Epoch 6/30\n",
      "6/6 [==============================] - 1s 232ms/step - loss: 0.9383 - categorical_accuracy: 0.7984 - val_loss: 1.3502 - val_categorical_accuracy: 0.5417\n",
      "Epoch 7/30\n",
      "6/6 [==============================] - 1s 236ms/step - loss: 0.8050 - categorical_accuracy: 0.8795 - val_loss: 1.1843 - val_categorical_accuracy: 0.5833\n",
      "Epoch 8/30\n",
      "6/6 [==============================] - 1s 233ms/step - loss: 0.7010 - categorical_accuracy: 0.9473 - val_loss: 1.1552 - val_categorical_accuracy: 0.7917\n",
      "Epoch 9/30\n",
      "6/6 [==============================] - 1s 235ms/step - loss: 0.6212 - categorical_accuracy: 0.9678 - val_loss: 1.0123 - val_categorical_accuracy: 0.8333\n",
      "Epoch 10/30\n",
      "6/6 [==============================] - 1s 234ms/step - loss: 0.5664 - categorical_accuracy: 0.9839 - val_loss: 0.9769 - val_categorical_accuracy: 0.8750\n",
      "Epoch 11/30\n",
      "6/6 [==============================] - 1s 238ms/step - loss: 0.5180 - categorical_accuracy: 0.9734 - val_loss: 0.8942 - val_categorical_accuracy: 0.8750\n",
      "Epoch 12/30\n",
      "6/6 [==============================] - 1s 231ms/step - loss: 0.4467 - categorical_accuracy: 0.9839 - val_loss: 0.8765 - val_categorical_accuracy: 0.8750\n",
      "Epoch 13/30\n",
      "6/6 [==============================] - 1s 231ms/step - loss: 0.4301 - categorical_accuracy: 0.9943 - val_loss: 0.7969 - val_categorical_accuracy: 0.9167\n",
      "Epoch 14/30\n",
      "6/6 [==============================] - 1s 231ms/step - loss: 0.3681 - categorical_accuracy: 0.9891 - val_loss: 0.8115 - val_categorical_accuracy: 0.8333\n",
      "Epoch 15/30\n",
      "6/6 [==============================] - 1s 234ms/step - loss: 0.3633 - categorical_accuracy: 0.9843 - val_loss: 0.7513 - val_categorical_accuracy: 0.9167\n",
      "Epoch 16/30\n",
      "6/6 [==============================] - 1s 239ms/step - loss: 0.3301 - categorical_accuracy: 0.9843 - val_loss: 0.6897 - val_categorical_accuracy: 0.8750\n",
      "Epoch 17/30\n",
      "6/6 [==============================] - 1s 236ms/step - loss: 0.2916 - categorical_accuracy: 1.0000 - val_loss: 0.6919 - val_categorical_accuracy: 0.8750\n",
      "Epoch 18/30\n",
      "6/6 [==============================] - 1s 235ms/step - loss: 0.2699 - categorical_accuracy: 1.0000 - val_loss: 0.6511 - val_categorical_accuracy: 0.9167\n",
      "Epoch 19/30\n",
      "6/6 [==============================] - 1s 238ms/step - loss: 0.2497 - categorical_accuracy: 1.0000 - val_loss: 0.6534 - val_categorical_accuracy: 0.8750\n",
      "Epoch 20/30\n",
      "6/6 [==============================] - 1s 234ms/step - loss: 0.2272 - categorical_accuracy: 1.0000 - val_loss: 0.6075 - val_categorical_accuracy: 0.8750\n",
      "Epoch 21/30\n",
      "6/6 [==============================] - 1s 238ms/step - loss: 0.2192 - categorical_accuracy: 1.0000 - val_loss: 0.5769 - val_categorical_accuracy: 0.8750\n",
      "Epoch 22/30\n",
      "6/6 [==============================] - 1s 237ms/step - loss: 0.1926 - categorical_accuracy: 1.0000 - val_loss: 0.5854 - val_categorical_accuracy: 0.8750\n",
      "Epoch 23/30\n",
      "6/6 [==============================] - 1s 233ms/step - loss: 0.1867 - categorical_accuracy: 1.0000 - val_loss: 0.5427 - val_categorical_accuracy: 0.8750\n",
      "Epoch 24/30\n",
      "6/6 [==============================] - 1s 237ms/step - loss: 0.1729 - categorical_accuracy: 1.0000 - val_loss: 0.5223 - val_categorical_accuracy: 0.8750\n",
      "Epoch 25/30\n",
      "6/6 [==============================] - 1s 240ms/step - loss: 0.1659 - categorical_accuracy: 1.0000 - val_loss: 0.5436 - val_categorical_accuracy: 0.8750\n",
      "Epoch 26/30\n",
      "6/6 [==============================] - 1s 233ms/step - loss: 0.1523 - categorical_accuracy: 1.0000 - val_loss: 0.5208 - val_categorical_accuracy: 0.9167\n",
      "Epoch 27/30\n",
      "6/6 [==============================] - 1s 242ms/step - loss: 0.1472 - categorical_accuracy: 1.0000 - val_loss: 0.4925 - val_categorical_accuracy: 0.8750\n",
      "Epoch 28/30\n",
      "6/6 [==============================] - 1s 233ms/step - loss: 0.1399 - categorical_accuracy: 1.0000 - val_loss: 0.4873 - val_categorical_accuracy: 0.8750\n",
      "Epoch 29/30\n",
      "6/6 [==============================] - 1s 234ms/step - loss: 0.1299 - categorical_accuracy: 1.0000 - val_loss: 0.4913 - val_categorical_accuracy: 0.8750\n",
      "Epoch 30/30\n",
      "6/6 [==============================] - 1s 232ms/step - loss: 0.1236 - categorical_accuracy: 1.0000 - val_loss: 0.4671 - val_categorical_accuracy: 0.8750\n"
     ]
    }
   ],
   "source": [
    "conv_base.trainable = False\n",
    "print('This is the number of trainable weights before freezing the conv base:', len(model.trainable_weights))\n",
    "\n",
    "model.compile(\n",
    "    optimizer=optimizers.Adam(lr=5e-5), \n",
    "    loss=losses.categorical_crossentropy, \n",
    "    metrics=[metrics.categorical_accuracy]\n",
    ")\n",
    "\n",
    "history = model.fit_generator(train_generator, \n",
    "                              steps_per_epoch=6, \n",
    "                              epochs=30, \n",
    "                              validation_data=validation_generator, \n",
    "                              validation_steps=3)"
   ]
  },
  {
   "cell_type": "code",
   "execution_count": 46,
   "metadata": {
    "colab": {
     "autoexec": {
      "startup": false,
      "wait_interval": 0
     }
    },
    "colab_type": "code",
    "id": "Atle6EGR_o-T"
   },
   "outputs": [],
   "source": [
    "conv_base.trainable = True\n",
    "set_trainable = False\n",
    "for layer in conv_base.layers:\n",
    "    if layer.name == 'block5_conv1':\n",
    "        set_trainable = True\n",
    "    if set_trainable:\n",
    "        layer.trainable = True\n",
    "    else:\n",
    "        layer.trainable = False"
   ]
  },
  {
   "cell_type": "code",
   "execution_count": 15,
   "metadata": {
    "colab": {
     "autoexec": {
      "startup": false,
      "wait_interval": 0
     },
     "base_uri": "https://localhost:8080/",
     "height": 955,
     "output_extras": [
      {
       "item_id": 54
      },
      {
       "item_id": 114
      },
      {
       "item_id": 174
      },
      {
       "item_id": 243
      },
      {
       "item_id": 298
      },
      {
       "item_id": 363
      },
      {
       "item_id": 430
      },
      {
       "item_id": 470
      },
      {
       "item_id": 520
      },
      {
       "item_id": 560
      },
      {
       "item_id": 596
      },
      {
       "item_id": 640
      },
      {
       "item_id": 683
      },
      {
       "item_id": 736
      },
      {
       "item_id": 796
      },
      {
       "item_id": 859
      },
      {
       "item_id": 914
      },
      {
       "item_id": 976
      },
      {
       "item_id": 1034
      },
      {
       "item_id": 1098
      },
      {
       "item_id": 1155
      },
      {
       "item_id": 1222
      },
      {
       "item_id": 1284
      },
      {
       "item_id": 1353
      },
      {
       "item_id": 1425
      },
      {
       "item_id": 1485
      },
      {
       "item_id": 1510
      }
     ]
    },
    "colab_type": "code",
    "id": "gpT0IIyLAWpR",
    "outputId": "5cbf1a75-da29-4d65-b4ba-5f33fc625ceb"
   },
   "outputs": [
    {
     "name": "stdout",
     "output_type": "stream",
     "text": [
      "Epoch 1/50\n",
      "6/6 [==============================] - 2s 401ms/step - loss: 0.1228 - categorical_accuracy: 0.9948 - val_loss: 0.5743 - val_categorical_accuracy: 0.7917\n",
      "Epoch 2/50\n",
      "6/6 [==============================] - 1s 234ms/step - loss: 0.1253 - categorical_accuracy: 1.0000 - val_loss: 0.4670 - val_categorical_accuracy: 0.8750\n",
      "Epoch 3/50\n",
      "6/6 [==============================] - 1s 234ms/step - loss: 0.1086 - categorical_accuracy: 1.0000 - val_loss: 0.5265 - val_categorical_accuracy: 0.8750\n",
      "Epoch 4/50\n",
      "6/6 [==============================] - 1s 235ms/step - loss: 0.1121 - categorical_accuracy: 1.0000 - val_loss: 0.3808 - val_categorical_accuracy: 0.9167\n",
      "Epoch 5/50\n",
      "6/6 [==============================] - 1s 241ms/step - loss: 0.1093 - categorical_accuracy: 1.0000 - val_loss: 0.4522 - val_categorical_accuracy: 0.8750\n",
      "Epoch 6/50\n",
      "6/6 [==============================] - 1s 237ms/step - loss: 0.0990 - categorical_accuracy: 1.0000 - val_loss: 0.5026 - val_categorical_accuracy: 0.8333\n",
      "Epoch 7/50\n",
      "6/6 [==============================] - 1s 233ms/step - loss: 0.0963 - categorical_accuracy: 1.0000 - val_loss: 0.4715 - val_categorical_accuracy: 0.8333\n",
      "Epoch 8/50\n",
      "6/6 [==============================] - 1s 234ms/step - loss: 0.0961 - categorical_accuracy: 1.0000 - val_loss: 0.3855 - val_categorical_accuracy: 0.9167\n",
      "Epoch 9/50\n",
      "6/6 [==============================] - 1s 236ms/step - loss: 0.0884 - categorical_accuracy: 1.0000 - val_loss: 0.4209 - val_categorical_accuracy: 0.8750\n",
      "Epoch 10/50\n",
      "6/6 [==============================] - 1s 235ms/step - loss: 0.0932 - categorical_accuracy: 1.0000 - val_loss: 0.4010 - val_categorical_accuracy: 0.9167\n",
      "Epoch 11/50\n",
      "6/6 [==============================] - 1s 243ms/step - loss: 0.0829 - categorical_accuracy: 1.0000 - val_loss: 0.5098 - val_categorical_accuracy: 0.7917\n",
      "Epoch 12/50\n",
      "6/6 [==============================] - 1s 235ms/step - loss: 0.0828 - categorical_accuracy: 1.0000 - val_loss: 0.4058 - val_categorical_accuracy: 0.8750\n",
      "Epoch 13/50\n",
      "6/6 [==============================] - 1s 240ms/step - loss: 0.0841 - categorical_accuracy: 1.0000 - val_loss: 0.3975 - val_categorical_accuracy: 0.9167\n",
      "Epoch 14/50\n",
      "6/6 [==============================] - 1s 233ms/step - loss: 0.0781 - categorical_accuracy: 1.0000 - val_loss: 0.3977 - val_categorical_accuracy: 0.8750\n",
      "Epoch 15/50\n",
      "6/6 [==============================] - 1s 234ms/step - loss: 0.0771 - categorical_accuracy: 1.0000 - val_loss: 0.3232 - val_categorical_accuracy: 0.9167\n",
      "Epoch 16/50\n",
      "6/6 [==============================] - 1s 236ms/step - loss: 0.0732 - categorical_accuracy: 1.0000 - val_loss: 0.4887 - val_categorical_accuracy: 0.8333\n",
      "Epoch 17/50\n",
      "6/6 [==============================] - 1s 242ms/step - loss: 0.0794 - categorical_accuracy: 1.0000 - val_loss: 0.4442 - val_categorical_accuracy: 0.8333\n",
      "Epoch 18/50\n",
      "6/6 [==============================] - 1s 238ms/step - loss: 0.0684 - categorical_accuracy: 1.0000 - val_loss: 0.2516 - val_categorical_accuracy: 0.9583\n",
      "Epoch 19/50\n",
      "6/6 [==============================] - 1s 235ms/step - loss: 0.0710 - categorical_accuracy: 1.0000 - val_loss: 0.4907 - val_categorical_accuracy: 0.8333\n",
      "Epoch 20/50\n",
      "6/6 [==============================] - 1s 238ms/step - loss: 0.0628 - categorical_accuracy: 1.0000 - val_loss: 0.4043 - val_categorical_accuracy: 0.8333\n",
      "Epoch 21/50\n",
      "6/6 [==============================] - 1s 236ms/step - loss: 0.0667 - categorical_accuracy: 1.0000 - val_loss: 0.3066 - val_categorical_accuracy: 0.9167\n",
      "Epoch 22/50\n",
      "6/6 [==============================] - 1s 234ms/step - loss: 0.0623 - categorical_accuracy: 1.0000 - val_loss: 0.3523 - val_categorical_accuracy: 0.9167\n",
      "Epoch 23/50\n",
      "6/6 [==============================] - 1s 243ms/step - loss: 0.0642 - categorical_accuracy: 1.0000 - val_loss: 0.4691 - val_categorical_accuracy: 0.8333\n",
      "Epoch 24/50\n",
      "6/6 [==============================] - 1s 236ms/step - loss: 0.0616 - categorical_accuracy: 1.0000 - val_loss: 0.4163 - val_categorical_accuracy: 0.8333\n",
      "Epoch 25/50\n",
      "6/6 [==============================] - 1s 236ms/step - loss: 0.0586 - categorical_accuracy: 1.0000 - val_loss: 0.3819 - val_categorical_accuracy: 0.8750\n",
      "Epoch 26/50\n",
      "6/6 [==============================] - 1s 238ms/step - loss: 0.0573 - categorical_accuracy: 1.0000 - val_loss: 0.2514 - val_categorical_accuracy: 0.9583\n",
      "Epoch 27/50\n",
      "6/6 [==============================] - 1s 248ms/step - loss: 0.0584 - categorical_accuracy: 1.0000 - val_loss: 0.3588 - val_categorical_accuracy: 0.8750\n",
      "Epoch 28/50\n",
      "6/6 [==============================] - 1s 241ms/step - loss: 0.0534 - categorical_accuracy: 1.0000 - val_loss: 0.4388 - val_categorical_accuracy: 0.7917\n",
      "Epoch 29/50\n",
      "6/6 [==============================] - 1s 239ms/step - loss: 0.0538 - categorical_accuracy: 1.0000 - val_loss: 0.3835 - val_categorical_accuracy: 0.8750\n",
      "Epoch 30/50\n",
      "6/6 [==============================] - 1s 243ms/step - loss: 0.0525 - categorical_accuracy: 1.0000 - val_loss: 0.3768 - val_categorical_accuracy: 0.8750\n",
      "Epoch 31/50\n",
      "6/6 [==============================] - 1s 243ms/step - loss: 0.0515 - categorical_accuracy: 1.0000 - val_loss: 0.2857 - val_categorical_accuracy: 0.9167\n",
      "Epoch 32/50\n",
      "6/6 [==============================] - 1s 240ms/step - loss: 0.0506 - categorical_accuracy: 1.0000 - val_loss: 0.4034 - val_categorical_accuracy: 0.8333\n",
      "Epoch 33/50\n",
      "6/6 [==============================] - 1s 240ms/step - loss: 0.0483 - categorical_accuracy: 1.0000 - val_loss: 0.2215 - val_categorical_accuracy: 0.9583\n",
      "Epoch 34/50\n",
      "6/6 [==============================] - 1s 244ms/step - loss: 0.0464 - categorical_accuracy: 1.0000 - val_loss: 0.4202 - val_categorical_accuracy: 0.8333\n",
      "Epoch 35/50\n",
      "6/6 [==============================] - 1s 237ms/step - loss: 0.0483 - categorical_accuracy: 1.0000 - val_loss: 0.3312 - val_categorical_accuracy: 0.8750\n",
      "Epoch 36/50\n",
      "6/6 [==============================] - 1s 238ms/step - loss: 0.0461 - categorical_accuracy: 1.0000 - val_loss: 0.3975 - val_categorical_accuracy: 0.8333\n",
      "Epoch 37/50\n",
      "6/6 [==============================] - 1s 239ms/step - loss: 0.0458 - categorical_accuracy: 1.0000 - val_loss: 0.2294 - val_categorical_accuracy: 0.9583\n",
      "Epoch 38/50\n",
      "6/6 [==============================] - 1s 242ms/step - loss: 0.0421 - categorical_accuracy: 1.0000 - val_loss: 0.3799 - val_categorical_accuracy: 0.8333\n",
      "Epoch 39/50\n",
      "6/6 [==============================] - 1s 239ms/step - loss: 0.0426 - categorical_accuracy: 1.0000 - val_loss: 0.3592 - val_categorical_accuracy: 0.8750\n",
      "Epoch 40/50\n",
      "6/6 [==============================] - 1s 241ms/step - loss: 0.0398 - categorical_accuracy: 1.0000 - val_loss: 0.4236 - val_categorical_accuracy: 0.8333\n",
      "Epoch 41/50\n",
      "6/6 [==============================] - 1s 239ms/step - loss: 0.0440 - categorical_accuracy: 1.0000 - val_loss: 0.2138 - val_categorical_accuracy: 0.9583\n",
      "Epoch 42/50\n",
      "6/6 [==============================] - 1s 242ms/step - loss: 0.0398 - categorical_accuracy: 1.0000 - val_loss: 0.4754 - val_categorical_accuracy: 0.7917\n",
      "Epoch 43/50\n",
      "6/6 [==============================] - 1s 240ms/step - loss: 0.0388 - categorical_accuracy: 1.0000 - val_loss: 0.3097 - val_categorical_accuracy: 0.8750\n",
      "Epoch 44/50\n",
      "6/6 [==============================] - 1s 241ms/step - loss: 0.0383 - categorical_accuracy: 1.0000 - val_loss: 0.3254 - val_categorical_accuracy: 0.8750\n",
      "Epoch 45/50\n",
      "6/6 [==============================] - 1s 235ms/step - loss: 0.0384 - categorical_accuracy: 1.0000 - val_loss: 0.2806 - val_categorical_accuracy: 0.9167\n",
      "Epoch 46/50\n",
      "6/6 [==============================] - 1s 239ms/step - loss: 0.0358 - categorical_accuracy: 1.0000 - val_loss: 0.4187 - val_categorical_accuracy: 0.8333\n",
      "Epoch 47/50\n",
      "6/6 [==============================] - 1s 241ms/step - loss: 0.0380 - categorical_accuracy: 1.0000 - val_loss: 0.3006 - val_categorical_accuracy: 0.9167\n",
      "Epoch 48/50\n",
      "6/6 [==============================] - 1s 243ms/step - loss: 0.0337 - categorical_accuracy: 1.0000 - val_loss: 0.2643 - val_categorical_accuracy: 0.8750\n",
      "Epoch 49/50\n",
      "6/6 [==============================] - 1s 244ms/step - loss: 0.0348 - categorical_accuracy: 1.0000 - val_loss: 0.2992 - val_categorical_accuracy: 0.9167\n",
      "Epoch 50/50\n",
      "6/6 [==============================] - 1s 240ms/step - loss: 0.0361 - categorical_accuracy: 1.0000 - val_loss: 0.3639 - val_categorical_accuracy: 0.8333\n"
     ]
    }
   ],
   "source": [
    "model.compile(\n",
    "    optimizer=optimizers.Adam(lr=1e-5), \n",
    "    loss=losses.categorical_crossentropy, \n",
    "    metrics=[metrics.categorical_accuracy]\n",
    ")\n",
    "\n",
    "history = model.fit_generator(train_generator, \n",
    "                              steps_per_epoch=6, \n",
    "                              epochs=50, \n",
    "                              validation_data=validation_generator, \n",
    "                              validation_steps=3)"
   ]
  },
  {
   "cell_type": "markdown",
   "metadata": {},
   "source": [
    "# Train the full VGG network"
   ]
  },
  {
   "cell_type": "code",
   "execution_count": 16,
   "metadata": {},
   "outputs": [
    {
     "name": "stdout",
     "output_type": "stream",
     "text": [
      "Epoch 1/50\n",
      "6/6 [==============================] - 11s 2s/step - loss: 0.0653 - categorical_accuracy: 0.9891 - val_loss: 0.3966 - val_categorical_accuracy: 0.8750\n",
      "Epoch 2/50\n",
      "6/6 [==============================] - 4s 632ms/step - loss: 0.0551 - categorical_accuracy: 0.9896 - val_loss: 0.3755 - val_categorical_accuracy: 0.7708\n",
      "Epoch 3/50\n",
      "6/6 [==============================] - 4s 626ms/step - loss: 0.0445 - categorical_accuracy: 0.9886 - val_loss: 0.4259 - val_categorical_accuracy: 0.8542\n",
      "Epoch 4/50\n",
      "6/6 [==============================] - 4s 628ms/step - loss: 0.0324 - categorical_accuracy: 0.9943 - val_loss: 0.3152 - val_categorical_accuracy: 0.8542\n",
      "Epoch 5/50\n",
      "6/6 [==============================] - 4s 626ms/step - loss: 0.0202 - categorical_accuracy: 0.9943 - val_loss: 0.4447 - val_categorical_accuracy: 0.8542\n",
      "Epoch 6/50\n",
      "6/6 [==============================] - 4s 637ms/step - loss: 0.0105 - categorical_accuracy: 1.0000 - val_loss: 0.2299 - val_categorical_accuracy: 0.8958\n",
      "Epoch 7/50\n",
      "6/6 [==============================] - 4s 653ms/step - loss: 0.0057 - categorical_accuracy: 1.0000 - val_loss: 0.3404 - val_categorical_accuracy: 0.8750\n",
      "Epoch 8/50\n",
      "6/6 [==============================] - 4s 635ms/step - loss: 0.0037 - categorical_accuracy: 1.0000 - val_loss: 0.4128 - val_categorical_accuracy: 0.8750\n",
      "Epoch 9/50\n",
      "6/6 [==============================] - 4s 643ms/step - loss: 0.0027 - categorical_accuracy: 1.0000 - val_loss: 0.2471 - val_categorical_accuracy: 0.9375\n",
      "Epoch 10/50\n",
      "6/6 [==============================] - 4s 660ms/step - loss: 0.0020 - categorical_accuracy: 1.0000 - val_loss: 0.2696 - val_categorical_accuracy: 0.9167\n",
      "Epoch 11/50\n",
      "6/6 [==============================] - 4s 624ms/step - loss: 0.0017 - categorical_accuracy: 1.0000 - val_loss: 0.2542 - val_categorical_accuracy: 0.8750\n",
      "Epoch 12/50\n",
      "6/6 [==============================] - 4s 623ms/step - loss: 0.0016 - categorical_accuracy: 1.0000 - val_loss: 0.1767 - val_categorical_accuracy: 0.8958\n",
      "Epoch 13/50\n",
      "6/6 [==============================] - 4s 629ms/step - loss: 0.0014 - categorical_accuracy: 1.0000 - val_loss: 0.2220 - val_categorical_accuracy: 0.8542\n",
      "Epoch 14/50\n",
      "6/6 [==============================] - 4s 633ms/step - loss: 0.0011 - categorical_accuracy: 1.0000 - val_loss: 0.2489 - val_categorical_accuracy: 0.8542\n",
      "Epoch 15/50\n",
      "6/6 [==============================] - 4s 641ms/step - loss: 0.0011 - categorical_accuracy: 1.0000 - val_loss: 0.1625 - val_categorical_accuracy: 0.8958\n",
      "Epoch 16/50\n",
      "6/6 [==============================] - 4s 656ms/step - loss: 0.0011 - categorical_accuracy: 1.0000 - val_loss: 0.2462 - val_categorical_accuracy: 0.8542\n",
      "Epoch 17/50\n",
      "6/6 [==============================] - 4s 644ms/step - loss: 8.5578e-04 - categorical_accuracy: 1.0000 - val_loss: 0.1498 - val_categorical_accuracy: 0.8958\n",
      "Epoch 18/50\n",
      "6/6 [==============================] - 4s 629ms/step - loss: 8.9684e-04 - categorical_accuracy: 1.0000 - val_loss: 0.2316 - val_categorical_accuracy: 0.8750\n",
      "Epoch 19/50\n",
      "6/6 [==============================] - 4s 645ms/step - loss: 8.5490e-04 - categorical_accuracy: 1.0000 - val_loss: 0.2015 - val_categorical_accuracy: 0.8750\n",
      "Epoch 20/50\n",
      "6/6 [==============================] - 4s 646ms/step - loss: 8.0614e-04 - categorical_accuracy: 1.0000 - val_loss: 0.1646 - val_categorical_accuracy: 0.8958\n",
      "Epoch 21/50\n",
      "6/6 [==============================] - 4s 646ms/step - loss: 6.8477e-04 - categorical_accuracy: 1.0000 - val_loss: 0.1951 - val_categorical_accuracy: 0.8750\n",
      "Epoch 22/50\n",
      "6/6 [==============================] - 4s 638ms/step - loss: 7.1050e-04 - categorical_accuracy: 1.0000 - val_loss: 0.2235 - val_categorical_accuracy: 0.8542\n",
      "Epoch 23/50\n",
      "6/6 [==============================] - 4s 646ms/step - loss: 7.0141e-04 - categorical_accuracy: 1.0000 - val_loss: 0.1746 - val_categorical_accuracy: 0.8750\n",
      "Epoch 24/50\n",
      "6/6 [==============================] - 4s 648ms/step - loss: 6.7933e-04 - categorical_accuracy: 1.0000 - val_loss: 0.1701 - val_categorical_accuracy: 0.8958\n",
      "Epoch 25/50\n",
      "6/6 [==============================] - 4s 643ms/step - loss: 5.6513e-04 - categorical_accuracy: 1.0000 - val_loss: 0.2353 - val_categorical_accuracy: 0.8333\n",
      "Epoch 26/50\n",
      "6/6 [==============================] - 4s 642ms/step - loss: 5.7004e-04 - categorical_accuracy: 1.0000 - val_loss: 0.1703 - val_categorical_accuracy: 0.8958\n",
      "Epoch 27/50\n",
      "6/6 [==============================] - 4s 640ms/step - loss: 5.4849e-04 - categorical_accuracy: 1.0000 - val_loss: 0.1843 - val_categorical_accuracy: 0.8750\n",
      "Epoch 28/50\n",
      "6/6 [==============================] - 4s 639ms/step - loss: 5.5603e-04 - categorical_accuracy: 1.0000 - val_loss: 0.1763 - val_categorical_accuracy: 0.8750\n",
      "Epoch 29/50\n",
      "6/6 [==============================] - 4s 648ms/step - loss: 5.3294e-04 - categorical_accuracy: 1.0000 - val_loss: 0.1765 - val_categorical_accuracy: 0.8750\n",
      "Epoch 30/50\n",
      "6/6 [==============================] - 4s 639ms/step - loss: 4.0847e-04 - categorical_accuracy: 1.0000 - val_loss: 0.1792 - val_categorical_accuracy: 0.8750\n",
      "Epoch 31/50\n",
      "6/6 [==============================] - 4s 636ms/step - loss: 5.0695e-04 - categorical_accuracy: 1.0000 - val_loss: 0.1786 - val_categorical_accuracy: 0.8750\n",
      "Epoch 32/50\n",
      "6/6 [==============================] - 4s 669ms/step - loss: 4.3012e-04 - categorical_accuracy: 1.0000 - val_loss: 0.1712 - val_categorical_accuracy: 0.8750\n",
      "Epoch 33/50\n",
      "6/6 [==============================] - 4s 664ms/step - loss: 4.4843e-04 - categorical_accuracy: 1.0000 - val_loss: 0.1749 - val_categorical_accuracy: 0.8750\n",
      "Epoch 34/50\n",
      "6/6 [==============================] - 4s 664ms/step - loss: 4.2866e-04 - categorical_accuracy: 1.0000 - val_loss: 0.2032 - val_categorical_accuracy: 0.8542\n",
      "Epoch 35/50\n",
      "6/6 [==============================] - 4s 662ms/step - loss: 3.6203e-04 - categorical_accuracy: 1.0000 - val_loss: 0.1588 - val_categorical_accuracy: 0.8750\n",
      "Epoch 36/50\n",
      "6/6 [==============================] - 4s 661ms/step - loss: 3.8796e-04 - categorical_accuracy: 1.0000 - val_loss: 0.1217 - val_categorical_accuracy: 0.9167\n",
      "Epoch 37/50\n",
      "6/6 [==============================] - 4s 664ms/step - loss: 3.6640e-04 - categorical_accuracy: 1.0000 - val_loss: 0.1998 - val_categorical_accuracy: 0.8542\n",
      "Epoch 38/50\n",
      "6/6 [==============================] - 4s 664ms/step - loss: 3.4409e-04 - categorical_accuracy: 1.0000 - val_loss: 0.1391 - val_categorical_accuracy: 0.8958\n",
      "Epoch 39/50\n",
      "6/6 [==============================] - 4s 658ms/step - loss: 3.5618e-04 - categorical_accuracy: 1.0000 - val_loss: 0.2172 - val_categorical_accuracy: 0.8333\n",
      "Epoch 40/50\n",
      "6/6 [==============================] - 4s 657ms/step - loss: 3.2279e-04 - categorical_accuracy: 1.0000 - val_loss: 0.1653 - val_categorical_accuracy: 0.8750\n",
      "Epoch 41/50\n",
      "6/6 [==============================] - 4s 664ms/step - loss: 3.1103e-04 - categorical_accuracy: 1.0000 - val_loss: 0.1502 - val_categorical_accuracy: 0.8958\n",
      "Epoch 42/50\n",
      "6/6 [==============================] - 4s 663ms/step - loss: 2.8158e-04 - categorical_accuracy: 1.0000 - val_loss: 0.1771 - val_categorical_accuracy: 0.8542\n",
      "Epoch 43/50\n",
      "6/6 [==============================] - 4s 667ms/step - loss: 3.1843e-04 - categorical_accuracy: 1.0000 - val_loss: 0.1322 - val_categorical_accuracy: 0.8958\n",
      "Epoch 44/50\n",
      "6/6 [==============================] - 4s 674ms/step - loss: 2.5030e-04 - categorical_accuracy: 1.0000 - val_loss: 0.1663 - val_categorical_accuracy: 0.8750\n",
      "Epoch 45/50\n",
      "6/6 [==============================] - 4s 668ms/step - loss: 2.9922e-04 - categorical_accuracy: 1.0000 - val_loss: 0.1762 - val_categorical_accuracy: 0.8750\n",
      "Epoch 46/50\n",
      "6/6 [==============================] - 4s 661ms/step - loss: 2.5630e-04 - categorical_accuracy: 1.0000 - val_loss: 0.1651 - val_categorical_accuracy: 0.8750\n",
      "Epoch 47/50\n",
      "6/6 [==============================] - 4s 646ms/step - loss: 2.3449e-04 - categorical_accuracy: 1.0000 - val_loss: 0.1625 - val_categorical_accuracy: 0.8750\n",
      "Epoch 48/50\n",
      "6/6 [==============================] - 4s 657ms/step - loss: 2.8570e-04 - categorical_accuracy: 1.0000 - val_loss: 0.1745 - val_categorical_accuracy: 0.8542\n",
      "Epoch 49/50\n",
      "6/6 [==============================] - 4s 654ms/step - loss: 2.2926e-04 - categorical_accuracy: 1.0000 - val_loss: 0.1270 - val_categorical_accuracy: 0.8958\n",
      "Epoch 50/50\n",
      "6/6 [==============================] - 4s 650ms/step - loss: 2.3496e-04 - categorical_accuracy: 1.0000 - val_loss: 0.1425 - val_categorical_accuracy: 0.8958\n"
     ]
    }
   ],
   "source": [
    "conv_base.trainable = True\n",
    "\n",
    "model.compile(\n",
    "    optimizer=optimizers.Adam(lr=1e-5), \n",
    "    loss=losses.categorical_crossentropy, \n",
    "    metrics=[metrics.categorical_accuracy]\n",
    ")\n",
    "\n",
    "history = model.fit_generator(train_generator, \n",
    "                              steps_per_epoch=6, \n",
    "                              epochs=50, \n",
    "                              validation_data=validation_generator, \n",
    "                              validation_steps=6)\n"
   ]
  },
  {
   "cell_type": "markdown",
   "metadata": {},
   "source": [
    "# Train longer with dropout"
   ]
  },
  {
   "cell_type": "code",
   "execution_count": 17,
   "metadata": {},
   "outputs": [
    {
     "name": "stdout",
     "output_type": "stream",
     "text": [
      "_________________________________________________________________\n",
      "Layer (type)                 Output Shape              Param #   \n",
      "=================================================================\n",
      "vgg16 (Model)                (None, 7, 7, 512)         14714688  \n",
      "_________________________________________________________________\n",
      "flatten_2 (Flatten)          (None, 25088)             0         \n",
      "_________________________________________________________________\n",
      "dense_3 (Dense)              (None, 512)               12845568  \n",
      "_________________________________________________________________\n",
      "dropout_1 (Dropout)          (None, 512)               0         \n",
      "_________________________________________________________________\n",
      "dense_4 (Dense)              (None, 7)                 3591      \n",
      "=================================================================\n",
      "Total params: 27,563,847\n",
      "Trainable params: 27,563,847\n",
      "Non-trainable params: 0\n",
      "_________________________________________________________________\n",
      "This is the number of trainable weights before freezing the conv base: 4\n",
      "Epoch 1/15\n",
      "6/6 [==============================] - 3s 534ms/step - loss: 2.2043 - categorical_accuracy: 0.1632 - val_loss: 2.0146 - val_categorical_accuracy: 0.1250\n",
      "Epoch 2/15\n",
      "6/6 [==============================] - 1s 242ms/step - loss: 1.8205 - categorical_accuracy: 0.3055 - val_loss: 1.8824 - val_categorical_accuracy: 0.1667\n",
      "Epoch 3/15\n",
      "6/6 [==============================] - 1s 244ms/step - loss: 1.5854 - categorical_accuracy: 0.4179 - val_loss: 1.8777 - val_categorical_accuracy: 0.2083\n",
      "Epoch 4/15\n",
      "6/6 [==============================] - 1s 239ms/step - loss: 1.4758 - categorical_accuracy: 0.4450 - val_loss: 1.7038 - val_categorical_accuracy: 0.4167\n",
      "Epoch 5/15\n",
      "6/6 [==============================] - 1s 238ms/step - loss: 1.3061 - categorical_accuracy: 0.5825 - val_loss: 1.4965 - val_categorical_accuracy: 0.4167\n",
      "Epoch 6/15\n",
      "6/6 [==============================] - 1s 243ms/step - loss: 1.0158 - categorical_accuracy: 0.6599 - val_loss: 1.3013 - val_categorical_accuracy: 0.6250\n",
      "Epoch 7/15\n",
      "6/6 [==============================] - 1s 240ms/step - loss: 0.9653 - categorical_accuracy: 0.7292 - val_loss: 1.3273 - val_categorical_accuracy: 0.5417\n",
      "Epoch 8/15\n",
      "6/6 [==============================] - 1s 241ms/step - loss: 0.9058 - categorical_accuracy: 0.7126 - val_loss: 1.1607 - val_categorical_accuracy: 0.6667\n",
      "Epoch 9/15\n",
      "6/6 [==============================] - 1s 238ms/step - loss: 0.7702 - categorical_accuracy: 0.8050 - val_loss: 1.1315 - val_categorical_accuracy: 0.5833\n",
      "Epoch 10/15\n",
      "6/6 [==============================] - 1s 240ms/step - loss: 0.6317 - categorical_accuracy: 0.8928 - val_loss: 1.0459 - val_categorical_accuracy: 0.7500\n",
      "Epoch 11/15\n",
      "6/6 [==============================] - 1s 240ms/step - loss: 0.6404 - categorical_accuracy: 0.8899 - val_loss: 0.9317 - val_categorical_accuracy: 0.9167\n",
      "Epoch 12/15\n",
      "6/6 [==============================] - 1s 241ms/step - loss: 0.5375 - categorical_accuracy: 0.9473 - val_loss: 0.9480 - val_categorical_accuracy: 0.8333\n",
      "Epoch 13/15\n",
      "6/6 [==============================] - 1s 238ms/step - loss: 0.4967 - categorical_accuracy: 0.9417 - val_loss: 0.8697 - val_categorical_accuracy: 0.7917\n",
      "Epoch 14/15\n",
      "6/6 [==============================] - 1s 240ms/step - loss: 0.4631 - categorical_accuracy: 0.9843 - val_loss: 0.9063 - val_categorical_accuracy: 0.7917\n",
      "Epoch 15/15\n",
      "6/6 [==============================] - 1s 239ms/step - loss: 0.4004 - categorical_accuracy: 0.9673 - val_loss: 0.7890 - val_categorical_accuracy: 0.8333\n"
     ]
    }
   ],
   "source": [
    "from keras.applications import VGG16\n",
    "\n",
    "conv_base = VGG16(weights='imagenet',\n",
    "                 include_top=False,\n",
    "                 input_shape=(224, 224, 3))\n",
    "\n",
    "\n",
    "model = models.Sequential()\n",
    "\n",
    "model.add(conv_base)\n",
    "model.add(layers.Flatten())\n",
    "model.add(layers.Dense(512))\n",
    "model.add(layers.Dropout(0.25))\n",
    "model.add(layers.Dense(7, activation='softmax'))\n",
    "model.summary()\n",
    "\n",
    "conv_base.trainable = False\n",
    "print('This is the number of trainable weights before freezing the conv base:', len(model.trainable_weights))\n",
    "\n",
    "model.compile(\n",
    "    optimizer=optimizers.Adam(lr=5e-5), \n",
    "    loss=losses.categorical_crossentropy, \n",
    "    metrics=[metrics.categorical_accuracy]\n",
    ")\n",
    "\n",
    "history = model.fit_generator(train_generator, \n",
    "                              steps_per_epoch=6, \n",
    "                              epochs=15, \n",
    "                              validation_data=validation_generator, \n",
    "                              validation_steps=3)"
   ]
  },
  {
   "cell_type": "code",
   "execution_count": 18,
   "metadata": {},
   "outputs": [
    {
     "name": "stdout",
     "output_type": "stream",
     "text": [
      "Epoch 1/50\n",
      "6/6 [==============================] - 3s 575ms/step - loss: 0.2965 - categorical_accuracy: 0.9791 - val_loss: 0.7236 - val_categorical_accuracy: 0.8333\n",
      "Epoch 2/50\n",
      "6/6 [==============================] - 2s 268ms/step - loss: 0.2168 - categorical_accuracy: 0.9843 - val_loss: 0.4334 - val_categorical_accuracy: 0.8750\n",
      "Epoch 3/50\n",
      "6/6 [==============================] - 2s 271ms/step - loss: 0.1524 - categorical_accuracy: 0.9843 - val_loss: 0.5471 - val_categorical_accuracy: 0.7917\n",
      "Epoch 4/50\n",
      "6/6 [==============================] - 2s 276ms/step - loss: 0.1295 - categorical_accuracy: 0.9948 - val_loss: 0.2983 - val_categorical_accuracy: 0.9583\n",
      "Epoch 5/50\n",
      "6/6 [==============================] - 2s 276ms/step - loss: 0.1192 - categorical_accuracy: 0.9948 - val_loss: 0.3332 - val_categorical_accuracy: 0.8750\n",
      "Epoch 6/50\n",
      "6/6 [==============================] - 2s 272ms/step - loss: 0.0811 - categorical_accuracy: 0.9948 - val_loss: 0.2706 - val_categorical_accuracy: 0.9583\n",
      "Epoch 7/50\n",
      "6/6 [==============================] - 2s 273ms/step - loss: 0.0780 - categorical_accuracy: 1.0000 - val_loss: 0.2376 - val_categorical_accuracy: 1.0000\n",
      "Epoch 8/50\n",
      "6/6 [==============================] - 2s 275ms/step - loss: 0.0934 - categorical_accuracy: 0.9843 - val_loss: 0.2540 - val_categorical_accuracy: 0.8750\n",
      "Epoch 9/50\n",
      "6/6 [==============================] - 2s 283ms/step - loss: 0.0560 - categorical_accuracy: 1.0000 - val_loss: 0.3222 - val_categorical_accuracy: 0.7917\n",
      "Epoch 10/50\n",
      "6/6 [==============================] - 2s 273ms/step - loss: 0.0529 - categorical_accuracy: 0.9948 - val_loss: 0.2223 - val_categorical_accuracy: 0.9583\n",
      "Epoch 11/50\n",
      "6/6 [==============================] - 2s 277ms/step - loss: 0.0635 - categorical_accuracy: 0.9896 - val_loss: 0.2295 - val_categorical_accuracy: 0.9167\n",
      "Epoch 12/50\n",
      "6/6 [==============================] - 2s 282ms/step - loss: 0.0428 - categorical_accuracy: 0.9948 - val_loss: 0.2034 - val_categorical_accuracy: 0.9167\n",
      "Epoch 13/50\n",
      "6/6 [==============================] - 2s 271ms/step - loss: 0.0299 - categorical_accuracy: 1.0000 - val_loss: 0.2483 - val_categorical_accuracy: 0.8333\n",
      "Epoch 14/50\n",
      "6/6 [==============================] - 2s 270ms/step - loss: 0.0315 - categorical_accuracy: 1.0000 - val_loss: 0.1434 - val_categorical_accuracy: 1.0000\n",
      "Epoch 15/50\n",
      "6/6 [==============================] - 2s 276ms/step - loss: 0.0257 - categorical_accuracy: 1.0000 - val_loss: 0.2079 - val_categorical_accuracy: 0.8750\n",
      "Epoch 16/50\n",
      "6/6 [==============================] - 2s 272ms/step - loss: 0.0257 - categorical_accuracy: 1.0000 - val_loss: 0.1421 - val_categorical_accuracy: 0.9167\n",
      "Epoch 17/50\n",
      "6/6 [==============================] - 2s 272ms/step - loss: 0.0227 - categorical_accuracy: 1.0000 - val_loss: 0.1867 - val_categorical_accuracy: 0.9583\n",
      "Epoch 18/50\n",
      "6/6 [==============================] - 2s 274ms/step - loss: 0.0191 - categorical_accuracy: 1.0000 - val_loss: 0.1107 - val_categorical_accuracy: 0.9583\n",
      "Epoch 19/50\n",
      "6/6 [==============================] - 2s 273ms/step - loss: 0.0166 - categorical_accuracy: 1.0000 - val_loss: 0.1660 - val_categorical_accuracy: 0.9583\n",
      "Epoch 20/50\n",
      "6/6 [==============================] - 2s 272ms/step - loss: 0.0155 - categorical_accuracy: 1.0000 - val_loss: 0.1678 - val_categorical_accuracy: 1.0000\n",
      "Epoch 21/50\n",
      "6/6 [==============================] - 2s 272ms/step - loss: 0.0159 - categorical_accuracy: 1.0000 - val_loss: 0.1642 - val_categorical_accuracy: 0.9583\n",
      "Epoch 22/50\n",
      "6/6 [==============================] - 2s 272ms/step - loss: 0.0125 - categorical_accuracy: 1.0000 - val_loss: 0.1617 - val_categorical_accuracy: 0.9583\n",
      "Epoch 23/50\n",
      "6/6 [==============================] - 2s 272ms/step - loss: 0.0124 - categorical_accuracy: 1.0000 - val_loss: 0.1455 - val_categorical_accuracy: 0.9583\n",
      "Epoch 24/50\n",
      "6/6 [==============================] - 2s 280ms/step - loss: 0.0107 - categorical_accuracy: 1.0000 - val_loss: 0.0809 - val_categorical_accuracy: 1.0000\n",
      "Epoch 25/50\n",
      "6/6 [==============================] - 2s 274ms/step - loss: 0.0100 - categorical_accuracy: 1.0000 - val_loss: 0.1355 - val_categorical_accuracy: 1.0000\n",
      "Epoch 26/50\n",
      "6/6 [==============================] - 2s 277ms/step - loss: 0.0108 - categorical_accuracy: 1.0000 - val_loss: 0.2005 - val_categorical_accuracy: 0.9167\n",
      "Epoch 27/50\n",
      "6/6 [==============================] - 2s 275ms/step - loss: 0.0093 - categorical_accuracy: 1.0000 - val_loss: 0.0643 - val_categorical_accuracy: 1.0000\n",
      "Epoch 28/50\n",
      "6/6 [==============================] - 2s 277ms/step - loss: 0.0087 - categorical_accuracy: 1.0000 - val_loss: 0.1862 - val_categorical_accuracy: 0.9583\n",
      "Epoch 29/50\n",
      "6/6 [==============================] - 2s 275ms/step - loss: 0.0080 - categorical_accuracy: 1.0000 - val_loss: 0.1093 - val_categorical_accuracy: 0.9583\n",
      "Epoch 30/50\n",
      "6/6 [==============================] - 2s 276ms/step - loss: 0.0091 - categorical_accuracy: 1.0000 - val_loss: 0.1361 - val_categorical_accuracy: 0.9167\n",
      "Epoch 31/50\n",
      "6/6 [==============================] - 2s 278ms/step - loss: 0.0078 - categorical_accuracy: 1.0000 - val_loss: 0.1180 - val_categorical_accuracy: 0.9583\n",
      "Epoch 32/50\n",
      "6/6 [==============================] - 2s 274ms/step - loss: 0.0072 - categorical_accuracy: 1.0000 - val_loss: 0.1410 - val_categorical_accuracy: 1.0000\n",
      "Epoch 33/50\n",
      "6/6 [==============================] - 2s 277ms/step - loss: 0.0054 - categorical_accuracy: 1.0000 - val_loss: 0.1762 - val_categorical_accuracy: 0.9167\n",
      "Epoch 34/50\n",
      "6/6 [==============================] - 2s 273ms/step - loss: 0.0057 - categorical_accuracy: 1.0000 - val_loss: 0.1416 - val_categorical_accuracy: 0.9583\n",
      "Epoch 35/50\n",
      "6/6 [==============================] - 2s 273ms/step - loss: 0.0061 - categorical_accuracy: 1.0000 - val_loss: 0.0677 - val_categorical_accuracy: 1.0000\n",
      "Epoch 36/50\n",
      "6/6 [==============================] - 2s 276ms/step - loss: 0.0056 - categorical_accuracy: 1.0000 - val_loss: 0.1262 - val_categorical_accuracy: 1.0000\n",
      "Epoch 37/50\n",
      "6/6 [==============================] - 2s 275ms/step - loss: 0.0052 - categorical_accuracy: 1.0000 - val_loss: 0.1325 - val_categorical_accuracy: 1.0000\n",
      "Epoch 38/50\n",
      "6/6 [==============================] - 2s 278ms/step - loss: 0.0054 - categorical_accuracy: 1.0000 - val_loss: 0.1496 - val_categorical_accuracy: 0.9167\n",
      "Epoch 39/50\n",
      "6/6 [==============================] - 2s 280ms/step - loss: 0.0047 - categorical_accuracy: 1.0000 - val_loss: 0.0855 - val_categorical_accuracy: 0.9583\n",
      "Epoch 40/50\n",
      "6/6 [==============================] - 2s 275ms/step - loss: 0.0048 - categorical_accuracy: 1.0000 - val_loss: 0.1368 - val_categorical_accuracy: 0.9583\n",
      "Epoch 41/50\n",
      "6/6 [==============================] - 2s 274ms/step - loss: 0.0039 - categorical_accuracy: 1.0000 - val_loss: 0.0994 - val_categorical_accuracy: 0.9583\n",
      "Epoch 42/50\n",
      "6/6 [==============================] - 2s 272ms/step - loss: 0.0042 - categorical_accuracy: 1.0000 - val_loss: 0.0981 - val_categorical_accuracy: 1.0000\n",
      "Epoch 43/50\n",
      "6/6 [==============================] - 2s 273ms/step - loss: 0.0039 - categorical_accuracy: 1.0000 - val_loss: 0.1357 - val_categorical_accuracy: 0.9167\n",
      "Epoch 44/50\n",
      "6/6 [==============================] - 2s 279ms/step - loss: 0.0036 - categorical_accuracy: 1.0000 - val_loss: 0.0503 - val_categorical_accuracy: 0.9583\n",
      "Epoch 45/50\n",
      "6/6 [==============================] - 2s 273ms/step - loss: 0.0038 - categorical_accuracy: 1.0000 - val_loss: 0.1332 - val_categorical_accuracy: 1.0000\n",
      "Epoch 46/50\n",
      "6/6 [==============================] - 2s 274ms/step - loss: 0.0032 - categorical_accuracy: 1.0000 - val_loss: 0.0539 - val_categorical_accuracy: 1.0000\n",
      "Epoch 47/50\n",
      "6/6 [==============================] - 2s 273ms/step - loss: 0.0029 - categorical_accuracy: 1.0000 - val_loss: 0.1591 - val_categorical_accuracy: 1.0000\n",
      "Epoch 48/50\n",
      "6/6 [==============================] - 2s 273ms/step - loss: 0.0032 - categorical_accuracy: 1.0000 - val_loss: 0.1113 - val_categorical_accuracy: 1.0000\n",
      "Epoch 49/50\n",
      "6/6 [==============================] - 2s 277ms/step - loss: 0.0028 - categorical_accuracy: 1.0000 - val_loss: 0.0991 - val_categorical_accuracy: 1.0000\n",
      "Epoch 50/50\n",
      "6/6 [==============================] - 2s 279ms/step - loss: 0.0034 - categorical_accuracy: 1.0000 - val_loss: 0.1297 - val_categorical_accuracy: 0.9167\n"
     ]
    }
   ],
   "source": [
    "conv_base.trainable = True\n",
    "\n",
    "set_trainable = False\n",
    "for layer in conv_base.layers:\n",
    "    if layer.name == 'block5_conv1':\n",
    "        set_trainable = True\n",
    "    if set_trainable:\n",
    "        layer.trainable = True\n",
    "    else:\n",
    "        layer.trainable = False\n",
    "        \n",
    "model.compile(\n",
    "    optimizer=optimizers.Adam(lr=1e-5), \n",
    "    loss=losses.categorical_crossentropy, \n",
    "    metrics=[metrics.categorical_accuracy]\n",
    ")\n",
    "\n",
    "history = model.fit_generator(train_generator, \n",
    "                              steps_per_epoch=6, \n",
    "                              epochs=50, \n",
    "                              validation_data=validation_generator, \n",
    "                              validation_steps=3)\n",
    "\n"
   ]
  }
 ],
 "metadata": {
  "accelerator": "GPU",
  "colab": {
   "collapsed_sections": [],
   "default_view": {},
   "name": "Emotion_detection.ipynb",
   "provenance": [],
   "version": "0.3.2",
   "views": {}
  },
  "kernelspec": {
   "display_name": "Python 3",
   "language": "python",
   "name": "python3"
  },
  "language_info": {
   "codemirror_mode": {
    "name": "ipython",
    "version": 3
   },
   "file_extension": ".py",
   "mimetype": "text/x-python",
   "name": "python",
   "nbconvert_exporter": "python",
   "pygments_lexer": "ipython3",
   "version": "3.6.5"
  }
 },
 "nbformat": 4,
 "nbformat_minor": 2
}
